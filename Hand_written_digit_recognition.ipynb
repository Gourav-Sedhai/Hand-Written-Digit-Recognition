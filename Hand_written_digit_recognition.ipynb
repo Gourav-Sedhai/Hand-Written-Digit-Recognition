{
  "nbformat": 4,
  "nbformat_minor": 0,
  "metadata": {
    "colab": {
      "name": "Hand written digit recognization.ipynb",
      "provenance": []
    },
    "kernelspec": {
      "name": "python3",
      "display_name": "Python 3"
    }
  },
  "cells": [
    {
      "cell_type": "code",
      "metadata": {
        "id": "pRT03pv5mEvQ",
        "colab_type": "code",
        "colab": {}
      },
      "source": [
        "import keras \n",
        "from keras.datasets import mnist\n",
        "from keras.models import Sequential\n",
        "from keras.layers import Dense, Dropout, Flatten\n",
        "from keras.layers import Conv2D, MaxPooling2D\n",
        "from keras import backend as K\n",
        "\n",
        "#Splitting the data between train and test sets\n",
        "(x_train, y_train), (x_test, y_test) = mnist.load_data()\n",
        "\n",
        "print(x_train.shape, y_train.shape)"
      ],
      "execution_count": null,
      "outputs": []
    },
    {
      "cell_type": "code",
      "metadata": {
        "id": "gYLyYwrvnZP7",
        "colab_type": "code",
        "colab": {}
      },
      "source": [
        "num_classes = 0\n",
        "\n",
        "#Adding one more dimension to reshape the matrix\n",
        "x_train = x_train.reshape(x_train.shape[0], 28, 28, 1)\n",
        "x_test = x_test.reshape(x_test.shape[0], 28, 28, 1)\n",
        "input_shape = (28, 28, 1)\n",
        "\n",
        "#Converting class vectors to binary class metrices\n",
        "y_train = keras.utils.to_categorical(y_train, num_classes)\n",
        "y_test = keras.utils.to_categorical(y_test, num_classes)\n",
        "\n",
        "x_train = x_train.astype('float32')\n",
        "x_test = x_test.astype('float32')\n",
        "x_train /= 255\n",
        "x_test /= 255\n",
        "print('x_train shape:', x_train.shape)\n",
        "print(x_train.shape[0], 'train samples')\n",
        "print(x_test.shape[0], 'test samples')"
      ],
      "execution_count": null,
      "outputs": []
    },
    {
      "cell_type": "code",
      "metadata": {
        "id": "OmlGC7V7o3gp",
        "colab_type": "code",
        "colab": {}
      },
      "source": [
        "#Creating the model\n",
        "batch_size = 128\n",
        "num_classes = 10\n",
        "epochs = 10\n",
        "\n",
        "model = Sequential()\n",
        "model.add(Conv2D(32, kernel_size = (3, 3), activation = 'relu', input_shape = input_shape))\n",
        "model.add(Conv2D(64, (3, 3), activation = 'relu'))\n",
        "model.add(MaxPooling2D(pool_size = (2, 2)))\n",
        "model.add(Dropout(0.25))\n",
        "model.add(Flatten())\n",
        "model.add(Dense(256, activation = 'relu'))\n",
        "model.add(Dropout(0.5))\n",
        "model.add(Dense(num_classes, activation = 'softmax'))\n",
        "\n",
        "model.compile(loss = keras.losses.categorical_crossentropy, optimizer = keras.optimizers.Adadelta(), metrics = ['accuracy'])"
      ],
      "execution_count": null,
      "outputs": []
    },
    {
      "cell_type": "code",
      "metadata": {
        "id": "UfApd4b2svjY",
        "colab_type": "code",
        "colab": {}
      },
      "source": [
        "#Training the model\n",
        "hist = model.fit(x_train, y_train,\n",
        "                 batch_size = batch_size, \n",
        "                 epochs = epochs, \n",
        "                 verbose = 1, \n",
        "                 validation_data = (x_test, y_test))\n",
        "print(\"The model has successfully trained\")\n",
        "\n",
        "model.save('mnist.h5')\n",
        "print(\"Saved the model as mnist.h5\")"
      ],
      "execution_count": null,
      "outputs": []
    },
    {
      "cell_type": "code",
      "metadata": {
        "id": "c3mmBERU1AK6",
        "colab_type": "code",
        "colab": {}
      },
      "source": [
        "score = model.evaluate(x_test, y_test, verbose = 0)\n",
        "print('Test loss:', score[0])\n",
        "print('Test accuracy:', score[1])"
      ],
      "execution_count": null,
      "outputs": []
    },
    {
      "cell_type": "code",
      "metadata": {
        "id": "YVk-eBSUtgpt",
        "colab_type": "code",
        "colab": {}
      },
      "source": [
        "from keras.models import load_model\n",
        "from tkinter import *\n",
        "import tkinter as tk\n",
        "import win32gui\n",
        "from PIL import ImageGrab, Image\n",
        "import numpy as np\n",
        "\n",
        "model = load_model('mnist.h5')\n",
        "\n",
        "def predict_digit(img):\n",
        "\n",
        "    #Resizing image to 28x28 px\n",
        "    img = img.resize((28,28))\n",
        "\n",
        "    #Converting rgb to grayscale\n",
        "    img = img.convert('L')\n",
        "    img = np.array(img)\n",
        "\n",
        "    #Reshaping to support our model input and normalizing\n",
        "    img = img.reshape(1, 28, 28, 1)\n",
        "    img = img/255.0\n",
        "\n",
        "    #Predicting the class\n",
        "    res = model.predict([img])[0]\n",
        "    return np.argmax(res), max(res)\n",
        "\n",
        "class App(tk.Tk):\n",
        "    def __init__(self):\n",
        "        tk.Tk.__init__(self)\n",
        "\n",
        "        self.x = self.y = 0\n",
        "\n",
        "        #Creating elements\n",
        "        self.canvas = tk.Canvas(self, width = 300, height = 300, bg = \"white\", cursor = \"cross\")\n",
        "        self.label = tk.Label(self, test = \"Thinking!\", font = (\"Helvetica\", 48))\n",
        "        self.classify_btn = tk.Button(self, test = \"Recognise\", command = self.classify_handwriting)\n",
        "        self.button_clear = tk.Button(self, test = \"Clear\", command = self.clear_all)\n",
        "\n",
        "        #Grid Structure\n",
        "        self.canvas.grid(row=0, column=0, pady=2, sticky=W)\n",
        "        self.label.grid(row=0, column=1,pady=2, padx=2)\n",
        "        self.classify_btn.grid(row=1, column=1, pady=2, padx=2)\n",
        "        self.button_clear.grid(row=1, column=0, pady=2)\n",
        "\n",
        "        #self.canvas.bind(\"<Motion>\", self.start_pos)\n",
        "        self.canvas.bind(\"<B1-Motion>\", self.draw_lines)\n",
        "\n",
        "        def clear_all(self):\n",
        "            self.canvas.delete(\"all\")\n",
        "\n",
        "        def classify_handwriting(self):\n",
        "            HWND = self.canvas.winfo_id() #Getting the handle of canvas\n",
        "            rect = win32gui.GetWindowRect(HWNF) #Getting the coordinate of canvas\n",
        "            im = ImageGrab.grab(rect)\n",
        "\n",
        "            digit, acc = predict_digit(im)\n",
        "            self.label.configure(text = str(digit) + ', ' + str(int(acc*100)) + '%')\n",
        "\n",
        "            def draw_lines(self, event):\n",
        "                self.x = event.x\n",
        "                self.y = event.y\n",
        "                r = 8\n",
        "                self.canvas.create_oval(self.x-r, self.y-r, self.x+r, self.y+r, fill = 'black')\n",
        "\n",
        "app = App()\n",
        "mainloop()"
      ],
      "execution_count": null,
      "outputs": []
    },
    {
      "cell_type": "code",
      "metadata": {
        "id": "Jfh6Sm7h1aGt",
        "colab_type": "code",
        "colab": {}
      },
      "source": [
        ""
      ],
      "execution_count": null,
      "outputs": []
    }
  ]
}